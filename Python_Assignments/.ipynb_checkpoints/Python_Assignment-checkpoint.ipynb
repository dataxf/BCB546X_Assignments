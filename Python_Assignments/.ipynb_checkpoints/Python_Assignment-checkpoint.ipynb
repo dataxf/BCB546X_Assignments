{
 "cells": [
  {
   "cell_type": "code",
   "execution_count": 1,
   "metadata": {
    "collapsed": true
   },
   "outputs": [],
   "source": [
    "from Bio import SeqIO"
   ]
  },
  {
   "cell_type": "code",
   "execution_count": 2,
   "metadata": {
    "collapsed": true
   },
   "outputs": [],
   "source": [
    "from Bio.Data import CodonTable"
   ]
  },
  {
   "cell_type": "code",
   "execution_count": 3,
   "metadata": {
    "collapsed": true
   },
   "outputs": [],
   "source": [
    "import pandas as pd"
   ]
  },
  {
   "cell_type": "markdown",
   "metadata": {},
   "source": [
    "## 1. Document Dr. X's function with comments and with markdown text in your Jupyter notebook"
   ]
  },
  {
   "cell_type": "markdown",
   "metadata": {},
   "source": [
    "Dr. X's function is to extract sequences from files, it takes a file and returns sequences that paired with species names in a dictionary"
   ]
  },
  {
   "cell_type": "code",
   "execution_count": 4,
   "metadata": {
    "collapsed": true
   },
   "outputs": [],
   "source": [
    "def get_sequences_from_file(fasta_fn): # define a function to get sequences from files\n",
    "    sequence_data_dict = {} # create an empty dictionary\n",
    "    for record in SeqIO.parse(fasta_fn, \"fasta\"): # takes a filename and format name, and returns a SeqRecord iterator\n",
    "        description = record.description.split() # split the description in the SeqRecord object, save to a new variable description\n",
    "        species_name = description[1] + \" \" + description[2] # extract the second and third element from the description, save to a new variable species_name \n",
    "        sequence_data_dict[species_name] = record.seq # assign the sequence in the SeqRecord object in the dictionary using species_name as the key\n",
    "    return(sequence_data_dict) # return the dictionary with species name and sequences"
   ]
  },
  {
   "cell_type": "markdown",
   "metadata": {},
   "source": [
    "## 2. Write a function that translates a string of nucleotides to amino acids "
   ]
  },
  {
   "cell_type": "markdown",
   "metadata": {},
   "source": [
    "* pseudo-code and suggestions\n",
    "def translate_function(string_nucleotides): \n",
    "mito_table = CodonTable.unambiguous_dna_by_name[\"Vertebrate Mitochondrial\"] # this should work using BioPython (be sure to check what this returns)\n",
    "for-loop through every 3rd position in string_nucleotides to get the codon using range subsets\n",
    "IMPORTANT: if the sequence has a stop codon at the end, you should leave it off\n",
    "this is how you can retrieve the amino acid: mito_table.forward_table[codon]\n",
    "add the aa to aa_seq_string\n",
    "return(aa_seq_string)"
   ]
  },
  {
   "cell_type": "code",
   "execution_count": 5,
   "metadata": {
    "collapsed": false
   },
   "outputs": [
    {
     "data": {
      "text/plain": [
       "'MLTW'"
      ]
     },
     "execution_count": 5,
     "metadata": {},
     "output_type": "execute_result"
    }
   ],
   "source": [
    "def translate_function(string_nucleotides): \n",
    "    mito_table = CodonTable.unambiguous_dna_by_name[\"Vertebrate Mitochondrial\"]\n",
    "    aa_seq_string = ''\n",
    "    for i in range(0, len(string_nucleotides), 3):\n",
    "        codon = string_nucleotides[i:i+3]\n",
    "        if codon not in mito_table.stop_codons:\n",
    "            aa_seq_string += mito_table.forward_table[codon]\n",
    "    return(aa_seq_string)\n",
    "translate_function(\"ATGTTGACGTGATAA\") # test the function"
   ]
  },
  {
   "cell_type": "markdown",
   "metadata": {},
   "source": [
    "## 3. Write an alternative translation function"
   ]
  },
  {
   "cell_type": "code",
   "execution_count": 23,
   "metadata": {
    "collapsed": false
   },
   "outputs": [
    {
     "data": {
      "text/plain": [
       "Seq('MLTW*', HasStopCodon(ExtendedIUPACProtein(), '*'))"
      ]
     },
     "execution_count": 23,
     "metadata": {},
     "output_type": "execute_result"
    }
   ],
   "source": [
    "from Bio.Seq import Seq\n",
    "from Bio.Alphabet import generic_dna\n",
    "def easy_translate_function(string_nucleotides):\n",
    "    coding_dna = Seq(string_nucleotides, generic_dna)\n",
    "    aa_seq_string = coding_dna.translate(table=\"Vertebrate Mitochondrial\")\n",
    "    return(aa_seq_string)\n",
    "easy_translate_function(\"ATGTTGACGTGATAA\") # test the function"
   ]
  },
  {
   "cell_type": "markdown",
   "metadata": {},
   "source": [
    "## 4. Write a function (or 3 functions) that calculates the proportion of each of 3 amino acid categories in a sequence"
   ]
  },
  {
   "cell_type": "code",
   "execution_count": 7,
   "metadata": {
    "collapsed": false
   },
   "outputs": [
    {
     "data": {
      "text/plain": [
       "0.5"
      ]
     },
     "execution_count": 7,
     "metadata": {},
     "output_type": "execute_result"
    }
   ],
   "source": [
    "# calculates the proportion of charged amino acids\n",
    "def get_proportion_charged_function(aa_seq):\n",
    "    charged = ['R','K','D','E']\n",
    "    count_charged = 0\n",
    "    for i in aa_seq:\n",
    "        if i in charged:\n",
    "            count_charged += 1\n",
    "    proportion_charged = count_charged/len(aa_seq)\n",
    "    return proportion_charged\n",
    "\n",
    "get_proportion_charged_function('RKEAAA') # test the function"
   ]
  },
  {
   "cell_type": "code",
   "execution_count": 8,
   "metadata": {
    "collapsed": false
   },
   "outputs": [
    {
     "data": {
      "text/plain": [
       "0.0"
      ]
     },
     "execution_count": 8,
     "metadata": {},
     "output_type": "execute_result"
    }
   ],
   "source": [
    "# calculates the proportion of polar amino acids\n",
    "def get_proportion_polar_function(aa_seq):\n",
    "    polar = ['Q','N','H','S','T','Y','C','M','W']\n",
    "    count_polar = 0\n",
    "    for i in aa_seq:\n",
    "        if i in polar:\n",
    "            count_polar += 1\n",
    "    proportion_polar = count_polar/len(aa_seq)\n",
    "    return proportion_polar\n",
    "get_proportion_polar_function('RKEAAA') # test the function"
   ]
  },
  {
   "cell_type": "code",
   "execution_count": 9,
   "metadata": {
    "collapsed": false
   },
   "outputs": [
    {
     "data": {
      "text/plain": [
       "0.5"
      ]
     },
     "execution_count": 9,
     "metadata": {},
     "output_type": "execute_result"
    }
   ],
   "source": [
    "# calculates the proportion of hydrophobic amino acids\n",
    "def get_proportion_hydrophobic_function(aa_seq):\n",
    "    hydrophobic = ['A','I','L','F','V','P','G']\n",
    "    count_hydrophobic = 0\n",
    "    for i in aa_seq:\n",
    "        if i in hydrophobic:\n",
    "            count_hydrophobic += 1\n",
    "    proportion_hydrophobic = count_hydrophobic/len(aa_seq)\n",
    "    return proportion_hydrophobic\n",
    "get_proportion_hydrophobic_function('RKEAAA') # test the function"
   ]
  },
  {
   "cell_type": "markdown",
   "metadata": {
    "collapsed": true
   },
   "source": [
    "## 5. Call your functions from 3 (or 2) and 4 and complete the empty columns in the dataframe"
   ]
  },
  {
   "cell_type": "code",
   "execution_count": 10,
   "metadata": {
    "collapsed": false
   },
   "outputs": [
    {
     "name": "stderr",
     "output_type": "stream",
     "text": [
      "/Users/xinyufu/anaconda/lib/python3.5/site-packages/Bio/Seq.py:150: BiopythonWarning: Biopython Seq objects now use string comparison. Older versions of Biopython used object comparison. During this transition, please use hash(id(my_seq)) or my_dict[id(my_seq)] if you want the old behaviour, or use hash(str(my_seq)) or my_dict[str(my_seq)] for the new string hashing behaviour.\n",
      "  \"the new string hashing behaviour.\", BiopythonWarning)\n"
     ]
    }
   ],
   "source": [
    "# read in the dataframe with the species and mass\n",
    "bear_df = pd.read_csv(\"bears_data.csv\")\n",
    "# get sequences with the species \n",
    "cytb_seqs = get_sequences_from_file(\"bears_cytb.fasta\")\n",
    "# generate empty list to store calculated amino acids\n",
    "charged_list = []\n",
    "polar_list = []\n",
    "hydrophobic_list = []\n",
    "# loop through the sequences, translate and calculate the amino acid composition\n",
    "for k, v in cytb_seqs.items():\n",
    "    aa_seq = translate_function(v)\n",
    "    charged_list.append(get_proportion_charged_function(aa_seq))\n",
    "    polar_list.append(get_proportion_polar_function(aa_seq))\n",
    "    hydrophobic_list.append(get_proportion_hydrophobic_function(aa_seq))\n",
    "    \n",
    "\n",
    "#print(charged_list)\n",
    "#print(polar_list)\n",
    "#print(hydrophobic_list)\n"
   ]
  },
  {
   "cell_type": "code",
   "execution_count": 11,
   "metadata": {
    "collapsed": false
   },
   "outputs": [
    {
     "data": {
      "text/plain": [
       "['Ursus spelaeus',\n",
       " 'Helarctos malayanus',\n",
       " 'Melursus ursinus',\n",
       " 'Tremarctos ornatus',\n",
       " 'Ursus maritimus',\n",
       " 'Ursus arctos',\n",
       " 'Ursus thibetanus',\n",
       " 'Ailuropoda melanoleuca',\n",
       " 'Ursus americanus']"
      ]
     },
     "execution_count": 11,
     "metadata": {},
     "output_type": "execute_result"
    }
   ],
   "source": [
    "list(cytb_seqs.keys())"
   ]
  },
  {
   "cell_type": "code",
   "execution_count": 12,
   "metadata": {
    "collapsed": false
   },
   "outputs": [
    {
     "data": {
      "text/plain": [
       "['Ursus spelaeus',\n",
       " 'Ursus arctos',\n",
       " 'Ursus thibetanus',\n",
       " 'Melursus ursinus',\n",
       " 'Ursus americanus',\n",
       " 'Helarctos malayanus',\n",
       " 'Ailuropoda melanoleuca',\n",
       " 'Tremarctos ornatus',\n",
       " 'Ursus maritimus']"
      ]
     },
     "execution_count": 12,
     "metadata": {},
     "output_type": "execute_result"
    }
   ],
   "source": [
    "list(bear_df.species)\n"
   ]
  },
  {
   "cell_type": "code",
   "execution_count": 13,
   "metadata": {
    "collapsed": false
   },
   "outputs": [
    {
     "data": {
      "text/html": [
       "<div>\n",
       "<table border=\"1\" class=\"dataframe\">\n",
       "  <thead>\n",
       "    <tr style=\"text-align: right;\">\n",
       "      <th></th>\n",
       "      <th>species</th>\n",
       "      <th>mass</th>\n",
       "      <th>charged</th>\n",
       "      <th>polar</th>\n",
       "      <th>hydrophobic</th>\n",
       "    </tr>\n",
       "  </thead>\n",
       "  <tbody>\n",
       "    <tr>\n",
       "      <th>0</th>\n",
       "      <td>Ursus spelaeus</td>\n",
       "      <td>550.800</td>\n",
       "      <td>0.092348</td>\n",
       "      <td>0.329815</td>\n",
       "      <td>0.577836</td>\n",
       "    </tr>\n",
       "    <tr>\n",
       "      <th>1</th>\n",
       "      <td>Helarctos malayanus</td>\n",
       "      <td>203.500</td>\n",
       "      <td>0.092348</td>\n",
       "      <td>0.340369</td>\n",
       "      <td>0.567282</td>\n",
       "    </tr>\n",
       "    <tr>\n",
       "      <th>2</th>\n",
       "      <td>Melursus ursinus</td>\n",
       "      <td>99.714</td>\n",
       "      <td>0.089710</td>\n",
       "      <td>0.340369</td>\n",
       "      <td>0.569921</td>\n",
       "    </tr>\n",
       "    <tr>\n",
       "      <th>3</th>\n",
       "      <td>Tremarctos ornatus</td>\n",
       "      <td>100.030</td>\n",
       "      <td>0.089710</td>\n",
       "      <td>0.335092</td>\n",
       "      <td>0.575198</td>\n",
       "    </tr>\n",
       "    <tr>\n",
       "      <th>4</th>\n",
       "      <td>Ursus maritimus</td>\n",
       "      <td>110.560</td>\n",
       "      <td>0.092348</td>\n",
       "      <td>0.327177</td>\n",
       "      <td>0.580475</td>\n",
       "    </tr>\n",
       "    <tr>\n",
       "      <th>5</th>\n",
       "      <td>Ursus arctos</td>\n",
       "      <td>47.020</td>\n",
       "      <td>0.092348</td>\n",
       "      <td>0.324538</td>\n",
       "      <td>0.583113</td>\n",
       "    </tr>\n",
       "    <tr>\n",
       "      <th>6</th>\n",
       "      <td>Ursus thibetanus</td>\n",
       "      <td>118.200</td>\n",
       "      <td>0.092348</td>\n",
       "      <td>0.327177</td>\n",
       "      <td>0.580475</td>\n",
       "    </tr>\n",
       "    <tr>\n",
       "      <th>7</th>\n",
       "      <td>Ailuropoda melanoleuca</td>\n",
       "      <td>140.700</td>\n",
       "      <td>0.089710</td>\n",
       "      <td>0.343008</td>\n",
       "      <td>0.567282</td>\n",
       "    </tr>\n",
       "    <tr>\n",
       "      <th>8</th>\n",
       "      <td>Ursus americanus</td>\n",
       "      <td>425.100</td>\n",
       "      <td>0.089710</td>\n",
       "      <td>0.337731</td>\n",
       "      <td>0.572559</td>\n",
       "    </tr>\n",
       "  </tbody>\n",
       "</table>\n",
       "</div>"
      ],
      "text/plain": [
       "                  species     mass   charged     polar  hydrophobic\n",
       "0          Ursus spelaeus  550.800  0.092348  0.329815     0.577836\n",
       "1     Helarctos malayanus  203.500  0.092348  0.340369     0.567282\n",
       "2        Melursus ursinus   99.714  0.089710  0.340369     0.569921\n",
       "3      Tremarctos ornatus  100.030  0.089710  0.335092     0.575198\n",
       "4         Ursus maritimus  110.560  0.092348  0.327177     0.580475\n",
       "5            Ursus arctos   47.020  0.092348  0.324538     0.583113\n",
       "6        Ursus thibetanus  118.200  0.092348  0.327177     0.580475\n",
       "7  Ailuropoda melanoleuca  140.700  0.089710  0.343008     0.567282\n",
       "8        Ursus americanus  425.100  0.089710  0.337731     0.572559"
      ]
     },
     "execution_count": 13,
     "metadata": {},
     "output_type": "execute_result"
    }
   ],
   "source": [
    "# Noted that the species list in the bear_df is not in the same order as the species in the \n",
    "# keys of the cytb_seqs object, so I change the species column in the bear_df\n",
    "bear_df['species']=list(cytb_seqs.keys())\n",
    "# Fill in the empty cells with calculated amino acid composition\n",
    "bear_df['charged'] = charged_list\n",
    "bear_df['polar'] = polar_list\n",
    "bear_df['hydrophobic'] = hydrophobic_list\n",
    "bear_df"
   ]
  },
  {
   "cell_type": "markdown",
   "metadata": {},
   "source": [
    "## 6. Plot a bar-chart of adult mass per species"
   ]
  },
  {
   "cell_type": "code",
   "execution_count": 14,
   "metadata": {
    "collapsed": false
   },
   "outputs": [
    {
     "data": {
      "image/png": "[encoded data removed]",
      "text/plain": [
       "<matplotlib.figure.Figure at 0x10ca8c438>"
      ]
     },
     "metadata": {},
     "output_type": "display_data"
    }
   ],
   "source": [
    "%matplotlib inline\n",
    "import seaborn as sns\n",
    "import matplotlib.pyplot as plt\n",
    "mass = sns.barplot(x = 'species', y = 'mass', data=bear_df, palette=\"Set2\")\n",
    "for item in mass.get_xticklabels():\n",
    "    item.set_rotation(90)"
   ]
  },
  {
   "cell_type": "markdown",
   "metadata": {},
   "source": [
    "Ursus spelaeus is the largest bear species. It is almost 10 times larger than Tremarctos ornatus."
   ]
  },
  {
   "cell_type": "markdown",
   "metadata": {},
   "source": [
    "## 7. Plot a graph that shows the amino-acid type proportions"
   ]
  },
  {
   "cell_type": "code",
   "execution_count": 15,
   "metadata": {
    "collapsed": false
   },
   "outputs": [],
   "source": [
    "bear_df_melt = pd.melt(bear_df, id_vars=['species', 'mass'], value_vars=['charged','polar','hydrophobic'])"
   ]
  },
  {
   "cell_type": "code",
   "execution_count": 16,
   "metadata": {
    "collapsed": false
   },
   "outputs": [
    {
     "data": {
      "text/plain": [
       "<matplotlib.legend.Legend at 0x10c9efe10>"
      ]
     },
     "execution_count": 16,
     "metadata": {},
     "output_type": "execute_result"
    },
    {
     "data": {
      "image/png": "[encoded data removed]",
      "text/plain": [
       "<matplotlib.figure.Figure at 0x10f3f91d0>"
      ]
     },
     "metadata": {},
     "output_type": "display_data"
    }
   ],
   "source": [
    "aaplot = sns.barplot(x = 'species', y = 'value', hue='variable', data=bear_df_melt)\n",
    "for item in aaplot.get_xticklabels():\n",
    "    item.set_rotation(90)\n",
    "plt.legend(bbox_to_anchor=(1.05, 1), loc=2, borderaxespad=0.)"
   ]
  },
  {
   "cell_type": "markdown",
   "metadata": {},
   "source": [
    "The proportions for amino-acid type for the bear species look similar.\n"
   ]
  },
  {
   "cell_type": "markdown",
   "metadata": {},
   "source": [
    "## 8. Write the entire dataframe to a new CSV file"
   ]
  },
  {
   "cell_type": "code",
   "execution_count": 17,
   "metadata": {
    "collapsed": false
   },
   "outputs": [],
   "source": [
    "bear_df.to_csv('new_bear_df', header=True)"
   ]
  },
  {
   "cell_type": "code",
   "execution_count": null,
   "metadata": {
    "collapsed": true
   },
   "outputs": [],
   "source": []
  }
 ],
 "metadata": {
  "kernelspec": {
   "display_name": "Python [default]",
   "language": "python",
   "name": "python3"
  },
  "language_info": {
   "codemirror_mode": {
    "name": "ipython",
    "version": 3
   },
   "file_extension": ".py",
   "mimetype": "text/x-python",
   "name": "python",
   "nbconvert_exporter": "python",
   "pygments_lexer": "ipython3",
   "version": "3.5.2"
  }
 },
 "nbformat": 4,
 "nbformat_minor": 2
}
