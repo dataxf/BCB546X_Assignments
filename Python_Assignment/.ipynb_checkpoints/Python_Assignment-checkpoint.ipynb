{
 "cells": [
  {
   "cell_type": "code",
   "execution_count": 1,
   "metadata": {
    "collapsed": true
   },
   "outputs": [],
   "source": [
    "from Bio import SeqIO"
   ]
  },
  {
   "cell_type": "code",
   "execution_count": 2,
   "metadata": {
    "collapsed": true
   },
   "outputs": [],
   "source": [
    "from Bio.Data import CodonTable"
   ]
  },
  {
   "cell_type": "code",
   "execution_count": 3,
   "metadata": {
    "collapsed": true
   },
   "outputs": [],
   "source": [
    "import pandas as pd"
   ]
  },
  {
   "cell_type": "markdown",
   "metadata": {},
   "source": [
    "## 1. Document Dr. X's function with comments and with markdown text in your Jupyter notebook"
   ]
  },
  {
   "cell_type": "markdown",
   "metadata": {},
   "source": [
    "Dr. X's function is to extract sequences from files, it takes a file and returns sequences that paired with species names in a dictionary"
   ]
  },
  {
   "cell_type": "code",
   "execution_count": 4,
   "metadata": {
    "collapsed": true
   },
   "outputs": [],
   "source": [
    "def get_sequences_from_file(fasta_fn): # define a function to get sequences from files\n",
    "    sequence_data_dict = {} # create an empty dictionary\n",
    "    for record in SeqIO.parse(fasta_fn, \"fasta\"): # takes a filename and format name, and returns a SeqRecord iterator\n",
    "        description = record.description.split() # split the description in the SeqRecord object, save to a new variable description\n",
    "        species_name = description[1] + \" \" + description[2] # extract the second and third element from the description, save to a new variable species_name \n",
    "        sequence_data_dict[species_name] = record.seq # assign the sequence in the SeqRecord object in the dictionary using species_name as the key\n",
    "    return(sequence_data_dict) # return the dictionary with species name and sequences"
   ]
  },
  {
   "cell_type": "markdown",
   "metadata": {},
   "source": [
    "## 2. Write a function that translates a string of nucleotides to amino acids "
   ]
  },
  {
   "cell_type": "markdown",
   "metadata": {},
   "source": [
    "* pseudo-code and suggestions\n",
    "def translate_function(string_nucleotides): \n",
    "mito_table = CodonTable.unambiguous_dna_by_name[\"Vertebrate Mitochondrial\"] # this should work using BioPython (be sure to check what this returns)\n",
    "for-loop through every 3rd position in string_nucleotides to get the codon using range subsets\n",
    "IMPORTANT: if the sequence has a stop codon at the end, you should leave it off\n",
    "this is how you can retrieve the amino acid: mito_table.forward_table[codon]\n",
    "add the aa to aa_seq_string\n",
    "return(aa_seq_string)"
   ]
  },
  {
   "cell_type": "code",
   "execution_count": null,
   "metadata": {
    "collapsed": true
   },
   "outputs": [],
   "source": [
    "def translate_function(string_nucleotides): \n",
    "    mito_table = CodonTable.unambiguous_dna_by_name[\"Vertebrate Mitochondrial\"]\n",
    "    aa_seq_string = ''\n",
    "    for i in range(0, len(string_nucleotides), 3):\n",
    "        codon = string_nucleotides[i:i+3]\n",
    "        aa_seq_string += mito_table[codon]\n",
    "    return(aa_seq_string)"
   ]
  }
 ],
 "metadata": {
  "kernelspec": {
   "display_name": "Python [default]",
   "language": "python",
   "name": "python3"
  },
  "language_info": {
   "codemirror_mode": {
    "name": "ipython",
    "version": 3
   },
   "file_extension": ".py",
   "mimetype": "text/x-python",
   "name": "python",
   "nbconvert_exporter": "python",
   "pygments_lexer": "ipython3",
   "version": "3.5.2"
  }
 },
 "nbformat": 4,
 "nbformat_minor": 2
}
